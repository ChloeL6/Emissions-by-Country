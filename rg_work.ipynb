{
 "cells": [
  {
   "cell_type": "code",
   "execution_count": null,
   "metadata": {},
   "outputs": [],
   "source": [
    "# Import the data from csv file and explore the data\n",
    "\n",
    "import os\n",
    "import sys\n",
    "import pandas as pd\n",
    "import logging\n",
    "from google.cloud import bigquery\n",
    "from hashlib import md5\n",
    "from typing import List\n",
    "import json\n",
    "\n",
    "# **** SETUP ****\n",
    "\n",
    "# change to match your filesystem\n",
    "DATA_DIR = \"../data/\"\n",
    "DEFAULT_RECEIPTS_FILE = os.path.join(DATA_DIR, \"Emissions_by_Country_2002-2022.csv\")\n",
    "PROJECT_NAME = \"deb-01-371820\"\n",
    "DATASET_NAME = \"air_travel\"\n",
    "\n",
    "data = []\n",
    "with open('./data/air_travel/tickets.json', 'r') as f:\n",
    "    for line in f:\n",
    "        data.append(json.loads(line))\n",
    "\n",
    "df = pd.DataFrame.from_dict(pd.json_normalize(data), orient='columns')\n",
    "\n",
    "display(df.head(n=10))\n",
    "\n"
   ]
  }
 ],
 "metadata": {
  "kernelspec": {
   "display_name": "Python 3.7.9 ('venv': venv)",
   "language": "python",
   "name": "python3"
  },
  "language_info": {
   "name": "python",
   "version": "3.7.9"
  },
  "orig_nbformat": 4,
  "vscode": {
   "interpreter": {
    "hash": "c2df45134b32dd0c23fe121b1bef65c867c7b1238f7afdcb636246ba4c55b1ea"
   }
  }
 },
 "nbformat": 4,
 "nbformat_minor": 2
}
